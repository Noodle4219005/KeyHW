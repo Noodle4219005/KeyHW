{
 "cells": [
  {
   "cell_type": "code",
   "execution_count": 1,
   "metadata": {},
   "outputs": [],
   "source": [
    "account = 'LI'\n",
    "password = 'PASSWORD'\n",
    "file = open('output.txt','r', encoding='utf-8')\n",
    "#file = 'test'\n",
    "from selenium import webdriver\n",
    "from selenium.webdriver.support.ui import Select\n",
    "import time"
   ]
  },
  {
   "cell_type": "code",
   "execution_count": 2,
   "metadata": {
    "collapsed": true
   },
   "outputs": [],
   "source": [
    "driver = webdriver.Chrome()\n",
    "driver.get('http://school1.nssh.ntpc.edu.tw/modules/tad_web/aboutus.php?WebID=150')\n",
    "time.sleep(.1)\n",
    "driver.find_element_by_id('c-button--slide-right').click()\n",
    "select = Select(driver.find_element_by_id('login_method'))\n",
    "time.sleep(.1)\n",
    "select.select_by_value(\"student_login\")\n",
    "element = driver.find_element_by_name('MemUname')\n",
    "element.send_keys(account)\n",
    "element = driver.find_element_by_name('MemPasswd')\n",
    "element.send_keys(password)\n",
    "driver.find_element_by_class_name('btn.btn-success.btn-block').click()\n",
    "driver.get('http://school1.nssh.ntpc.edu.tw/modules/tad_web/homework.php?WebID=150&op=edit_form')"
   ]
  },
  {
   "cell_type": "code",
   "execution_count": 13,
   "metadata": {},
   "outputs": [
    {
     "name": "stdout",
     "output_type": "stream",
     "text": [
      "<ol>\\\n",
      "<li><span style=\"font-size:28px;\"><strong><span style=\"color:#059400;\">帶</span> 防災頭套</strong></span></li>\\\n",
      "<li><span style=\"font-size:28px;\"><strong><span style=\"color:#2577da;\">完成</span> 歷史講義<span style=\"color:#DAA520;\">[09/06(Mon)]</span></strong></span></li>\\\n",
      "<li><span style=\"font-size:28px;\"><strong><span style=\"color:#2577da;\">完成</span> 英文課本p.19,20,22</strong></span></li>\\\n",
      "<li><span style=\"font-size:28px;\"><strong><span style=\"color:#2577da;\">完成</span> 國際情勢p.6<span style=\"color:#DAA520;\">[09/09(Thu)]</span></strong></span></li>\\\n",
      "<li><span style=\"font-size:28px;\"><strong><span style=\"color:#2577da;\">完成</span> 公民法規資料庫</strong></span></li>\\\n",
      "<li><span style=\"font-size:28px;\"><strong><span style=\"color:#2577da;\">完成</span> 物理講義Ch1~2</strong></span></li>\\\n",
      "<li><span style=\"font-size:28px;\"><strong><span style=\"color:#2577da;\">完成</span> 數學學習歷程</strong></span></li>\\\n",
      "<li><span style=\"font-size:28px;\"><strong><span style=\"color:#c90ef1;\">交</span> 英檢影本(如需申請獎學金)</strong></span></li>\\\n",
      "<li><span style=\"font-size:28px;\"><strong><span style=\"color:#d32c64;\">考試</span> 英文大白卷<span style=\"color:#DAA520;\">[09/08(Wed)]</span></strong></span></li>\\\n",
      "</ol>\n"
     ]
    }
   ],
   "source": [
    "Keyin = ''\n",
    "for line in file.readlines():\n",
    "    Keyin = Keyin + line\n",
    "print(Keyin)"
   ]
  },
  {
   "cell_type": "code",
   "execution_count": 14,
   "metadata": {},
   "outputs": [],
   "source": [
    "#driver.find_element_by_id('cke_32').click()\n",
    "driver.switch_to.default_content()\n",
    "driver.switch_to.frame(0) \n",
    "#driver.find_element_by_tag_name(\"body\").send_keys(file)\n",
    "script = '''function getElementByXpath(path){\n",
    "  return document.evaluate(path, document, null, XPathResult.FIRST_ORDERED_NODE_TYPE, null).singleNodeValue;\n",
    "}\n",
    "getElementByXpath(\"/html/body\").innerHTML = ''' + \"'{}';\".format(Keyin)\n",
    "driver.execute_script(script)\n",
    "driver.switch_to.default_content()"
   ]
  },
  {
   "cell_type": "code",
   "execution_count": 16,
   "metadata": {},
   "outputs": [],
   "source": [
    "driver.find_element_by_class_name('btn.btn-primary').click()"
   ]
  },
  {
   "cell_type": "code",
   "execution_count": 17,
   "metadata": {
    "collapsed": true
   },
   "outputs": [
    {
     "data": {
      "text/plain": [
       "<bound method WebDriver.quit of <selenium.webdriver.chrome.webdriver.WebDriver (session=\"d1b4efcf7c87a66a73739dc88ec9ccbc\")>>"
      ]
     },
     "execution_count": 17,
     "metadata": {},
     "output_type": "execute_result"
    }
   ],
   "source": [
    "driver.quit"
   ]
  }
 ],
 "metadata": {
  "interpreter": {
   "hash": "ac59ebe37160ed0dfa835113d9b8498d9f09ceb179beaac4002f036b9467c963"
  },
  "kernelspec": {
   "display_name": "Python 3.9.5 64-bit",
   "name": "python3"
  },
  "language_info": {
   "codemirror_mode": {
    "name": "ipython",
    "version": 3
   },
   "file_extension": ".py",
   "mimetype": "text/x-python",
   "name": "python",
   "nbconvert_exporter": "python",
   "pygments_lexer": "ipython3",
   "version": "3.9.5"
  }
 },
 "nbformat": 4,
 "nbformat_minor": 2
}
